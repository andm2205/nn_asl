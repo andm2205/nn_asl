{
 "cells": [
  {
   "cell_type": "code",
   "execution_count": 1,
   "metadata": {},
   "outputs": [],
   "source": [
    "import cv2\n",
    "import os\n",
    "import tensorflow\n",
    "import numpy\n",
    "from PIL import Image\n",
    "import random\n",
    "from tensorflow.keras.models import load_model\n",
    "import time"
   ]
  },
  {
   "cell_type": "code",
   "execution_count": null,
   "metadata": {},
   "outputs": [],
   "source": [
    "def showImage(image):\n",
    "    cv2.imshow('Image', image)\n",
    "    cv2.waitKey(0)\n",
    "    cv2.destroyAllWindows()\n",
    "    return None"
   ]
  },
  {
   "cell_type": "code",
   "execution_count": 6,
   "metadata": {},
   "outputs": [],
   "source": [
    "model = load_model(r\"C:\\Users\\andm2\\Documents\\project_sign_language\\neural_network.HDF5\")"
   ]
  },
  {
   "cell_type": "code",
   "execution_count": 7,
   "metadata": {},
   "outputs": [],
   "source": [
    "path = r\"C:\\Users\\andm2\\Documents\\input\""
   ]
  },
  {
   "cell_type": "code",
   "execution_count": null,
   "metadata": {},
   "outputs": [],
   "source": [
    "path = r\"C:\\Users\\andm2\\Documents\\project_sign_language\\test\""
   ]
  },
  {
   "cell_type": "code",
   "execution_count": 9,
   "metadata": {},
   "outputs": [
    {
     "name": "stdout",
     "output_type": "stream",
     "text": [
      "count << 20\n",
      "                      fileName        category  outputCategory           match\n",
      "                     Z2849.jpg               Z               Z               1\n",
      "                     Q1781.jpg               Q               Q               1\n",
      "                      C126.jpg               C               C               1\n",
      "                     M2678.jpg               M               M               1\n",
      "                     R2207.jpg               R               R               1\n",
      "                     A2387.jpg               A               E               0\n",
      "                      S466.jpg               S               S               1\n",
      "                      P444.jpg               P               P               1\n",
      "                      H556.jpg               H               H               1\n",
      "                     U1647.jpg               U               R               0\n",
      "                     Q1680.jpg               Q               Q               1\n",
      "                     A1027.jpg               A               A               1\n",
      "                     P1633.jpg               P               P               1\n",
      "                     W1006.jpg               W               W               1\n",
      "                 space2429.jpg           space           space               1\n",
      "                     F2489.jpg               F               F               1\n",
      "                      F782.jpg               F               F               1\n",
      "                     R1774.jpg               R               R               1\n",
      "                      M267.jpg               M               M               1\n",
      "                     M1198.jpg               M               M               1\n",
      "totalMath = 18\n",
      "accuracy = 0.9\n"
     ]
    }
   ],
   "source": [
    "os.chdir(path)\n",
    "categories = ['A', 'B', 'C', 'D', 'del', 'E', 'F', 'G', 'H', 'I', 'J', 'K', 'L', 'M', 'N', 'nothing', 'O', 'P', 'Q', 'R', 'S', 'space', 'T', 'U', 'V', 'W', 'X', 'Y', 'Z']\n",
    "count = int(input(\"count << \"))\n",
    "print(\"{0:>30} {1:>15} {2:>15} {3:>15}\".format(\"fileName\", \"category\", \"outputCategory\", \"match\"))\n",
    "totalMath = 0\n",
    "accuracy = 0\n",
    "for i in range(0, count):\n",
    "    index = random.randint(0, len(os.listdir()) - 1)\n",
    "    dirName = os.listdir()[index]\n",
    "    category = dirName\n",
    "    os.chdir(dirName)\n",
    "    index = random.randint(0, len(os.listdir()) - 1)\n",
    "    fileName = os.listdir()[index]\n",
    "    image = cv2.imread(fileName)\n",
    "    image = cv2.cvtColor(image, cv2.COLOR_BGR2GRAY)\n",
    "    ret, image = cv2.threshold(image, 127, 255, 0)\n",
    "    image = cv2.resize(image, (40, 40), interpolation = cv2.INTER_AREA)\n",
    "    image = numpy.array(image).astype('float32')\n",
    "    image /= 255\n",
    "    image = numpy.array(image).astype('float32')\n",
    "    image = image.reshape(-1, 40, 40, 1)\n",
    "    os.chdir(\"../\")\n",
    "    vector = model.predict_proba(image)\n",
    "    numOfCategory = (numpy.where(vector == numpy.amax(vector))[1])\n",
    "    numOfCategory = int(numOfCategory)\n",
    "    outputCategory = categories[numOfCategory]\n",
    "    match = outputCategory == category\n",
    "    print(\"{0:>30} {1:>15} {2:>15} {3:>15}\".format(fileName, category, outputCategory, match))\n",
    "    totalMath += match\n",
    "print(\"totalMath =\", totalMath)\n",
    "accuracy = totalMath / count\n",
    "print(\"accuracy =\", accuracy)"
   ]
  },
  {
   "cell_type": "code",
   "execution_count": 4,
   "metadata": {},
   "outputs": [
    {
     "ename": "error",
     "evalue": "OpenCV(4.1.1) c:\\projects\\opencv-python\\opencv\\modules\\imgproc\\src\\color.simd_helpers.hpp:92: error: (-2:Unspecified error) in function '__cdecl cv::impl::`anonymous-namespace'::CvtHelper<struct cv::impl::`anonymous namespace'::Set<3,4,-1>,struct cv::impl::A0xe227985e::Set<1,-1,-1>,struct cv::impl::A0xe227985e::Set<0,2,5>,2>::CvtHelper(const class cv::_InputArray &,const class cv::_OutputArray &,int)'\n> Invalid number of channels in input image:\n>     'VScn::contains(scn)'\n> where\n>     'scn' is 1\n",
     "output_type": "error",
     "traceback": [
      "\u001b[1;31m---------------------------------------------------------------------------\u001b[0m",
      "\u001b[1;31merror\u001b[0m                                     Traceback (most recent call last)",
      "\u001b[1;32m<ipython-input-4-ac232ad173ca>\u001b[0m in \u001b[0;36m<module>\u001b[1;34m\u001b[0m\n\u001b[0;32m      7\u001b[0m     \u001b[0mret\u001b[0m\u001b[1;33m,\u001b[0m \u001b[0mimage\u001b[0m \u001b[1;33m=\u001b[0m \u001b[0mcv2\u001b[0m\u001b[1;33m.\u001b[0m\u001b[0mthreshold\u001b[0m\u001b[1;33m(\u001b[0m\u001b[0mimage\u001b[0m\u001b[1;33m,\u001b[0m \u001b[1;36m170\u001b[0m\u001b[1;33m,\u001b[0m \u001b[1;36m255\u001b[0m\u001b[1;33m,\u001b[0m \u001b[1;36m0\u001b[0m\u001b[1;33m)\u001b[0m\u001b[1;33m\u001b[0m\u001b[1;33m\u001b[0m\u001b[0m\n\u001b[0;32m      8\u001b[0m     \u001b[0mcv2\u001b[0m\u001b[1;33m.\u001b[0m\u001b[0mimshow\u001b[0m\u001b[1;33m(\u001b[0m\u001b[1;34m'Video'\u001b[0m\u001b[1;33m,\u001b[0m \u001b[0mimage\u001b[0m\u001b[1;33m)\u001b[0m\u001b[1;33m\u001b[0m\u001b[1;33m\u001b[0m\u001b[0m\n\u001b[1;32m----> 9\u001b[1;33m     \u001b[0mimage\u001b[0m \u001b[1;33m=\u001b[0m \u001b[0mcv2\u001b[0m\u001b[1;33m.\u001b[0m\u001b[0mcvtColor\u001b[0m\u001b[1;33m(\u001b[0m\u001b[0mimage\u001b[0m\u001b[1;33m,\u001b[0m \u001b[0mcv2\u001b[0m\u001b[1;33m.\u001b[0m\u001b[0mCOLOR_BGR2GRAY\u001b[0m\u001b[1;33m)\u001b[0m\u001b[1;33m\u001b[0m\u001b[1;33m\u001b[0m\u001b[0m\n\u001b[0m\u001b[0;32m     10\u001b[0m     \u001b[0mimage\u001b[0m \u001b[1;33m=\u001b[0m \u001b[0mcv2\u001b[0m\u001b[1;33m.\u001b[0m\u001b[0mreshape\u001b[0m\u001b[1;33m(\u001b[0m\u001b[1;33m)\u001b[0m\u001b[1;33m\u001b[0m\u001b[1;33m\u001b[0m\u001b[0m\n\u001b[0;32m     11\u001b[0m     \u001b[0mvector\u001b[0m \u001b[1;33m=\u001b[0m \u001b[0mmodel\u001b[0m\u001b[1;33m.\u001b[0m\u001b[0mpredict_proba\u001b[0m\u001b[1;33m(\u001b[0m\u001b[0mimage\u001b[0m\u001b[1;33m)\u001b[0m\u001b[1;33m\u001b[0m\u001b[1;33m\u001b[0m\u001b[0m\n",
      "\u001b[1;31merror\u001b[0m: OpenCV(4.1.1) c:\\projects\\opencv-python\\opencv\\modules\\imgproc\\src\\color.simd_helpers.hpp:92: error: (-2:Unspecified error) in function '__cdecl cv::impl::`anonymous-namespace'::CvtHelper<struct cv::impl::`anonymous namespace'::Set<3,4,-1>,struct cv::impl::A0xe227985e::Set<1,-1,-1>,struct cv::impl::A0xe227985e::Set<0,2,5>,2>::CvtHelper(const class cv::_InputArray &,const class cv::_OutputArray &,int)'\n> Invalid number of channels in input image:\n>     'VScn::contains(scn)'\n> where\n>     'scn' is 1\n"
     ]
    }
   ],
   "source": [
    "totalMath = 0\n",
    "accuracy = 0\n",
    "capture = cv2.VideoCapture(0)\n",
    "while(True):\n",
    "    ret, image = capture.read()\n",
    "    image = cv2.cvtColor(image, cv2.COLOR_BGR2GRAY)\n",
    "    ret, image = cv2.threshold(image, 170, 255, 0)\n",
    "    cv2.imshow('Video', image)\n",
    "    image = cv2.reshape()\n",
    "    vector = model.predict_proba(image)\n",
    "    numOfCategory = (numpy.where(vector == numpy.amax(vector))[1])\n",
    "    numOfCategory = int(numOfCategory)\n",
    "    outputCategory = categories[numOfCategory]\n",
    "    print(outputCategory + \"\\r\", end = \"\")\n",
    "    totalMath += match\n",
    "    if cv2.waitKey(1) & 0xFF == ord('q'):\n",
    "        break\n",
    "capture.release()\n",
    "cv2.destroyAllWindows()\n",
    "print(\"totalMath =\", totalMath)\n",
    "accuracy = totalMath / count\n",
    "print(\"accuracy =\", accuracy)"
   ]
  },
  {
   "cell_type": "code",
   "execution_count": 5,
   "metadata": {},
   "outputs": [
    {
     "data": {
      "text/plain": [
       "(480, 640)"
      ]
     },
     "execution_count": 5,
     "metadata": {},
     "output_type": "execute_result"
    }
   ],
   "source": [
    "image.shape"
   ]
  },
  {
   "cell_type": "code",
   "execution_count": 17,
   "metadata": {},
   "outputs": [
    {
     "data": {
      "text/plain": [
       "(480, 640)"
      ]
     },
     "execution_count": 17,
     "metadata": {},
     "output_type": "execute_result"
    }
   ],
   "source": []
  },
  {
   "cell_type": "code",
   "execution_count": 18,
   "metadata": {},
   "outputs": [
    {
     "data": {
      "text/plain": [
       "'C:\\\\Users\\\\andm2\\\\Documents\\\\project_sign_language'"
      ]
     },
     "execution_count": 18,
     "metadata": {},
     "output_type": "execute_result"
    }
   ],
   "source": []
  },
  {
   "cell_type": "code",
   "execution_count": 19,
   "metadata": {},
   "outputs": [
    {
     "data": {
      "text/plain": [
       "True"
      ]
     },
     "execution_count": 19,
     "metadata": {},
     "output_type": "execute_result"
    }
   ],
   "source": []
  },
  {
   "cell_type": "code",
   "execution_count": null,
   "metadata": {},
   "outputs": [],
   "source": []
  }
 ],
 "metadata": {
  "kernelspec": {
   "display_name": "Python 3",
   "language": "python",
   "name": "python3"
  },
  "language_info": {
   "codemirror_mode": {
    "name": "ipython",
    "version": 3
   },
   "file_extension": ".py",
   "mimetype": "text/x-python",
   "name": "python",
   "nbconvert_exporter": "python",
   "pygments_lexer": "ipython3",
   "version": "3.6.9"
  }
 },
 "nbformat": 4,
 "nbformat_minor": 2
}
