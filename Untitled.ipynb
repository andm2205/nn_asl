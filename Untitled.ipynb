{
 "cells": [
  {
   "cell_type": "code",
   "execution_count": 1,
   "metadata": {},
   "outputs": [],
   "source": [
    "import cv2\n",
    "import os\n",
    "import tensorflow\n",
    "import numpy\n",
    "from PIL import Image"
   ]
  },
  {
   "cell_type": "code",
   "execution_count": 10,
   "metadata": {},
   "outputs": [],
   "source": [
    "def openImage(imageName):\n",
    "    return cv2.imread(imageName)"
   ]
  },
  {
   "cell_type": "code",
   "execution_count": 11,
   "metadata": {},
   "outputs": [],
   "source": [
    "def showImage(image):\n",
    "    cv2.imshow('Image', image)\n",
    "    cv2.waitKey(0)\n",
    "    cv2.destroyAllWindows()\n",
    "    return None"
   ]
  },
  {
   "cell_type": "code",
   "execution_count": 12,
   "metadata": {},
   "outputs": [],
   "source": [
    "def transformScale(image, percent):\n",
    "    width = int(image.shape[1] * percent / 100)\n",
    "    height = int(image.shape[0] * percent / 100)\n",
    "    dim = (width, height)\n",
    "    resizedImage = cv2.resize(image, dim, cv2.INTER_AREA)\n",
    "    return resizedImage"
   ]
  },
  {
   "cell_type": "code",
   "execution_count": 13,
   "metadata": {},
   "outputs": [],
   "source": [
    "def transformRotate(image, angle):\n",
    "    (h, w, d) = image.shape\n",
    "    center = (w // 2, h // 2)\n",
    "    m = cv2.getRotationMatrix2D(center, angle, 1.0)\n",
    "    rotatedImage = cv2.warpAffine(image, m, (w, h))\n",
    "    return rotatedImage"
   ]
  },
  {
   "cell_type": "code",
   "execution_count": 14,
   "metadata": {},
   "outputs": [],
   "source": [
    "def transformGray(image):\n",
    "    grayImage = cv2.cvtColor(image, cv2.COLOR_BGR2GRAY)\n",
    "    return grayImage"
   ]
  },
  {
   "cell_type": "code",
   "execution_count": 15,
   "metadata": {},
   "outputs": [],
   "source": [
    "def transformThreshold(image, x, up, down):\n",
    "    ret, threshold = cv2.threshold(image, x, up, down)\n",
    "    return threshold"
   ]
  },
  {
   "cell_type": "code",
   "execution_count": 16,
   "metadata": {},
   "outputs": [],
   "source": [
    "def transformBlur(image, x, y):\n",
    "    bluredImage = cv2.GaussianBlur(image, (x, y), 0)\n",
    "    return bluredImage"
   ]
  },
  {
   "cell_type": "markdown",
   "metadata": {},
   "source": [
    "imageName = 'lizard.jpg'\n",
    "while True:\n",
    "    print('1)открыть; 2)показать; 3) масштабировать; 4)повернуть; 5)изменить цвет; 6)порог; 7)блюр; 8)выход')\n",
    "    choice = input('Выбор: ')\n",
    "    if choice == '1':\n",
    "        image = openImage(imageName)\n",
    "    elif choice == '2':\n",
    "        showImage(image)\n",
    "    elif choice == '3':\n",
    "        setting = float(input(\"Введите параметр: \"))\n",
    "        image = transformScale(image, setting)\n",
    "    elif choice == '4':\n",
    "        setting = float(input('Введите параметр: '))\n",
    "        image = transformRotate(image, setting)\n",
    "    elif choice == '5':\n",
    "        image = transformGray(image)\n",
    "    elif choice == '6':\n",
    "        setting1 = int(input('Введите параметр1: '))\n",
    "        setting2 = int(input('Введите параметр2: '))\n",
    "        setting3 = int(input('Введите параметр3: '))\n",
    "        image = transformThreshold(image, setting1, setting2, setting3)\n",
    "    elif chioce == '7':\n",
    "        setting1 = int(input('Введите параметр1: '))\n",
    "        setting2 = int(input('Введите параметр2: '))\n",
    "        image = transformBlur(image, setting1, setting2)\n",
    "    elif choice == '8':\n",
    "        exit(0)\n",
    "    else:\n",
    "        print('Ввод неверный')"
   ]
  },
  {
   "cell_type": "code",
   "execution_count": null,
   "metadata": {},
   "outputs": [],
   "source": [
    "imageName = 'lizard.jpg'\n",
    "while True:\n",
    "    print('1)открыть; 2)показать; 3) масштабировать; 4)повернуть; 5)изменить цвет; 6)порог; 7)блюр; 8)выход')\n",
    "    choice = input('Выбор: ')\n",
    "    if choice == '1':\n",
    "        image = openImage(imageName)\n",
    "    elif choice == '2':\n",
    "        showImage(image)\n",
    "    elif choice == '3':\n",
    "        setting = float(input(\"Введите параметр: \"))\n",
    "        image = transformScale(image, setting)\n",
    "    elif choice == '4':\n",
    "        setting = float(input('Введите параметр: '))\n",
    "        image = transformRotate(image, setting)\n",
    "    elif choice == '5':\n",
    "        image = transformGray(image)\n",
    "    elif choice == '6':\n",
    "        setting1 = int(input('Введите параметр1: '))\n",
    "        setting2 = int(input('Введите параметр2: '))\n",
    "        setting3 = int(input('Введите параметр3: '))\n",
    "        image = transformThreshold(image, setting1, setting2, setting3)\n",
    "    elif choice == '7':\n",
    "        setting1 = int(input('Введите параметр1: '))\n",
    "        setting2 = int(input('Введите параметр2: '))\n",
    "        image = transformBlur(image, setting1, setting2)\n",
    "    elif choice == '8':\n",
    "        exit(0)\n",
    "    else: print('Ввод неверный')"
   ]
  },
  {
   "cell_type": "markdown",
   "metadata": {},
   "source": [
    "### video = cv2.VideoCapture(0)\n",
    "while True:\n",
    "    ret, image = video.read()\n",
    "    cv2.imshow(\"camera\", image)\n",
    "    if cv2.waitKey(10) == 27:\n",
    "        break\n",
    "video.release()\n",
    "cv2.destroyAllWindows()"
   ]
  },
  {
   "cell_type": "code",
   "execution_count": 17,
   "metadata": {},
   "outputs": [
    {
     "ename": "KeyboardInterrupt",
     "evalue": "",
     "output_type": "error",
     "traceback": [
      "\u001b[1;31m---------------------------------------------------------------------------\u001b[0m",
      "\u001b[1;31mKeyboardInterrupt\u001b[0m                         Traceback (most recent call last)",
      "\u001b[1;32m<ipython-input-17-62c3982ca317>\u001b[0m in \u001b[0;36m<module>\u001b[1;34m\u001b[0m\n\u001b[0;32m      4\u001b[0m     \u001b[0mos\u001b[0m\u001b[1;33m.\u001b[0m\u001b[0mchdir\u001b[0m\u001b[1;33m(\u001b[0m\u001b[0mdirName\u001b[0m\u001b[1;33m)\u001b[0m\u001b[1;33m\u001b[0m\u001b[1;33m\u001b[0m\u001b[0m\n\u001b[0;32m      5\u001b[0m     \u001b[1;32mfor\u001b[0m \u001b[0mfileName\u001b[0m \u001b[1;32min\u001b[0m \u001b[0mos\u001b[0m\u001b[1;33m.\u001b[0m\u001b[0mlistdir\u001b[0m\u001b[1;33m(\u001b[0m\u001b[1;33m)\u001b[0m\u001b[1;33m:\u001b[0m\u001b[1;33m\u001b[0m\u001b[1;33m\u001b[0m\u001b[0m\n\u001b[1;32m----> 6\u001b[1;33m         \u001b[0mimage\u001b[0m \u001b[1;33m=\u001b[0m \u001b[0mcv2\u001b[0m\u001b[1;33m.\u001b[0m\u001b[0mimread\u001b[0m\u001b[1;33m(\u001b[0m\u001b[0mfileName\u001b[0m\u001b[1;33m)\u001b[0m\u001b[1;33m\u001b[0m\u001b[1;33m\u001b[0m\u001b[0m\n\u001b[0m\u001b[0;32m      7\u001b[0m         \u001b[0mimage\u001b[0m \u001b[1;33m=\u001b[0m \u001b[0mcv2\u001b[0m\u001b[1;33m.\u001b[0m\u001b[0mcvtColor\u001b[0m\u001b[1;33m(\u001b[0m\u001b[0mimage\u001b[0m\u001b[1;33m,\u001b[0m \u001b[0mcv2\u001b[0m\u001b[1;33m.\u001b[0m\u001b[0mCOLOR_BGR2GRAY\u001b[0m\u001b[1;33m)\u001b[0m\u001b[1;33m\u001b[0m\u001b[1;33m\u001b[0m\u001b[0m\n\u001b[0;32m      8\u001b[0m         \u001b[0mret\u001b[0m\u001b[1;33m,\u001b[0m \u001b[0mimage\u001b[0m \u001b[1;33m=\u001b[0m \u001b[0mcv2\u001b[0m\u001b[1;33m.\u001b[0m\u001b[0mthreshold\u001b[0m\u001b[1;33m(\u001b[0m\u001b[0mimage\u001b[0m\u001b[1;33m,\u001b[0m \u001b[1;36m127\u001b[0m\u001b[1;33m,\u001b[0m \u001b[1;36m255\u001b[0m\u001b[1;33m,\u001b[0m \u001b[1;36m0\u001b[0m\u001b[1;33m)\u001b[0m\u001b[1;33m\u001b[0m\u001b[1;33m\u001b[0m\u001b[0m\n",
      "\u001b[1;31mKeyboardInterrupt\u001b[0m: "
     ]
    }
   ],
   "source": [
    "images = []; y = []\n",
    "os.chdir(r'C:\\Users\\andm2\\Documents\\project_sign_language\\input')\n",
    "for dirName in os.listdir():\n",
    "    os.chdir(dirName)\n",
    "    for fileName in os.listdir():\n",
    "        image = cv2.imread(fileName)\n",
    "        image = cv2.cvtColor(image, cv2.COLOR_BGR2GRAY)\n",
    "        ret, image = cv2.threshold(image, 127, 255, 0)\n",
    "        image = cv2.resize(image, (40, 40), interpolation = cv2.INTER_AREA)\n",
    "        images.append(image)\n",
    "#         images.append(int(dirName))\n",
    "    os.chdir('../')\n",
    "images = numpy.array(x).astype('float32')\n",
    "# y = numpy.array(y).astype('float32')"
   ]
  },
  {
   "cell_type": "code",
   "execution_count": 4,
   "metadata": {},
   "outputs": [],
   "source": [
    "images = []\n",
    "os.chdir(r'C:\\Users\\andm2\\Documents\\project_sign_language\\test')\n",
    "for dirName in os.listdir():\n",
    "    os.chdir(dirName)\n",
    "    for fileName in os.listdir():\n",
    "        image = cv2.imread(fileName)\n",
    "        image = cv2.cvtColor(image, cv2.COLOR_BGR2GRAY)\n",
    "        ret, image = cv2.threshold(image, 127, 255, 0)\n",
    "        image = cv2.resize(image, (40, 40), interpolation = cv2.INTER_AREA)\n",
    "        images.append(image)\n",
    "    os.chdir('../')\n",
    "images = numpy.array(images).astype('float32')"
   ]
  },
  {
   "cell_type": "code",
   "execution_count": 16,
   "metadata": {},
   "outputs": [
    {
     "name": "stdout",
     "output_type": "stream",
     "text": [
      "images.shape = (50, 40, 40, 1)\n",
      "images.shape = (50, 40, 40, 1)\n"
     ]
    }
   ],
   "source": [
    "print(\"images.shape =\", images.shape)\n",
    "images /= 255\n",
    "images = numpy.array(images).astype('float32')\n",
    "images = images.reshape(-1, 40, 40, 1)\n",
    "print(\"images.shape =\", images.shape)"
   ]
  },
  {
   "cell_type": "code",
   "execution_count": 18,
   "metadata": {},
   "outputs": [],
   "source": [
    "from sklearn.model_selection import train_test_split\n",
    "from keras.models import Sequential\n",
    "from keras.utils import np_utils\n",
    "from keras.layers import Dense, Dropout, Flatten\n",
    "from keras.layers import Conv2D, MaxPooling2D\n",
    "from keras.layers.normalization import BatchNormalization"
   ]
  },
  {
   "cell_type": "code",
   "execution_count": 19,
   "metadata": {},
   "outputs": [],
   "source": [
    "model = Sequential()\n",
    "model.add(Conv2D(input_shape = (40, 40, 1), filters = 32, kernel_size=(3, 3), activation='relu'))\n",
    "# model.add(BatchNormalization())\n",
    "# model.add(MaxPooling2D((2, 2)))\n",
    "\n",
    "# model.add(Conv2D(filters = 32, kernel_size=(3, 3), activation='relu'))\n",
    "# model.add(BatchNormalization())\n",
    "# model.add(MaxPooling2D())\n",
    "\n",
    "\n",
    "# model.add(Conv2D(filters = 64, kernel_size=(3, 3), activation='relu'))\n",
    "# model.add(BatchNormalization())\n",
    "# #model.add(MaxPooling2D())\n",
    "\n",
    "# model.add(Conv2D(filters = 128, kernel_size=(3, 3), activation='relu'))\n",
    "# model.add(BatchNormalization())\n",
    "# model.add(Dropout(rate = 0.2))\n",
    "# model.add(MaxPooling2D())\n",
    "\n",
    "model.add(Flatten())\n",
    "model.add(Dense(128, activation='relu'))\n",
    "#model.add(Dropout(rate = 0.2))\n",
    "model.add(Dense(22, activation='softmax'))"
   ]
  },
  {
   "cell_type": "code",
   "execution_count": null,
   "metadata": {},
   "outputs": [],
   "source": [
    "import keras\n",
    "model.compile(loss = 'categorical_crossentropy',\n",
    "              optimizer='adam',\n",
    "              metrics=['accuracy'])"
   ]
  },
  {
   "cell_type": "code",
   "execution_count": null,
   "metadata": {},
   "outputs": [],
   "source": [
    "y1 = keras.utils.to_categorical(y,22)"
   ]
  },
  {
   "cell_type": "code",
   "execution_count": null,
   "metadata": {},
   "outputs": [],
   "source": [
    "x_train, x_val, y_train, y_val = train_test_split(x, y1, test_size=0.15, random_state=13)"
   ]
  },
  {
   "cell_type": "code",
   "execution_count": null,
   "metadata": {},
   "outputs": [],
   "source": [
    "model.summary()"
   ]
  },
  {
   "cell_type": "code",
   "execution_count": null,
   "metadata": {},
   "outputs": [],
   "source": [
    "model.save('neural_network.HDF5')"
   ]
  }
 ],
 "metadata": {
  "kernelspec": {
   "display_name": "Python 3",
   "language": "python",
   "name": "python3"
  },
  "language_info": {
   "codemirror_mode": {
    "name": "ipython",
    "version": 3
   },
   "file_extension": ".py",
   "mimetype": "text/x-python",
   "name": "python",
   "nbconvert_exporter": "python",
   "pygments_lexer": "ipython3",
   "version": "3.6.9"
  }
 },
 "nbformat": 4,
 "nbformat_minor": 2
}
